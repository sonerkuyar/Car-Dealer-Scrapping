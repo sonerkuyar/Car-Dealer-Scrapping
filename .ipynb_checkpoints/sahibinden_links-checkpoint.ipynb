{
 "cells": [
  {
   "cell_type": "code",
   "execution_count": 8,
   "id": "b5cbc22f-ab4e-431d-9b34-d56a333d0bc3",
   "metadata": {},
   "outputs": [],
   "source": [
    "import pandas as pd\n",
    "import requests\n",
    "from bs4 import BeautifulSoup\n",
    "import time\n",
    "import urllib3\n",
    "import httpx\n",
    "\n"
   ]
  },
  {
   "cell_type": "code",
   "execution_count": 9,
   "id": "40b818f6-a0f4-4359-a08b-a55f5c324ccd",
   "metadata": {},
   "outputs": [],
   "source": [
    "\n",
    "headers = {\"User-Agent\": \"Mozilla/5.0 (Macintosh; Intel Mac OS X 10_15_7) AppleWebKit/605.1.15 (KHTML, like Gecko) Version/16.0 Safari/605.1.15\",'Cookie': 'foo=bar; hello=world'}\n",
    "website = \"https://www.sahibinden.com/otomobil?pagingSize=50\"\n",
    "\n",
    "response = requests.get('https://www.sahibinden.com/otomobil?pagingSize=50',headers=headers)\n",
    "time.sleep(2)"
   ]
  },
  {
   "cell_type": "code",
   "execution_count": 10,
   "id": "3c4dc49a-ff64-46f4-b8ab-ad86b56077c0",
   "metadata": {},
   "outputs": [],
   "source": [
    "r = httpx.get(website,headers=headers)\n",
    "\n",
    "\n"
   ]
  },
  {
   "cell_type": "code",
   "execution_count": 11,
   "id": "ae4e22be-f95b-4435-88e7-b9e46139c913",
   "metadata": {},
   "outputs": [
    {
     "data": {
      "text/plain": [
       "URL('https://www.sahibinden.com/otomobil?pagingSize=50')"
      ]
     },
     "execution_count": 11,
     "metadata": {},
     "output_type": "execute_result"
    }
   ],
   "source": [
    "r.status_code\n",
    "r.url"
   ]
  },
  {
   "cell_type": "code",
   "execution_count": 12,
   "id": "bc216c98-f629-4d08-be6e-b17b28e95766",
   "metadata": {},
   "outputs": [],
   "source": [
    "soup = BeautifulSoup(r.text,'lxml')"
   ]
  },
  {
   "cell_type": "code",
   "execution_count": 13,
   "id": "ebf28b7a-e6d5-43b9-8151-aa78e97953b5",
   "metadata": {},
   "outputs": [],
   "source": [
    "results = soup.find_all('a',{'class':'classifiedTitle'})\n",
    "\n"
   ]
  },
  {
   "cell_type": "code",
   "execution_count": 14,
   "id": "9690ccb5-4892-4029-b40d-153b8cdcf278",
   "metadata": {},
   "outputs": [
    {
     "name": "stdout",
     "output_type": "stream",
     "text": [
      "/ilan/vasita-otomobil-renault-bayandan-hatasiz-dizel-otomatik-megane-touch-1057414516/detay\n",
      "/ilan/vasita-otomobil-toyota-toyota-corolla-dream-hatasiz-1057330312/detay\n",
      "/ilan/vasita-otomobil-bmw-orjinal-70000-km-temiz-1024684887/detay\n",
      "/ilan/vasita-otomobil-audi-hatasiz-88-bin-km-kesik-direksiyon-cam-tavvan-s-tronic-full-1057728879/detay\n",
      "/ilan/vasita-otomobil-mercedes-benz-a180d-amg-127.000-km-2016-model-gece-paketli-hatasiz-boyasiz-1057781322/detay\n",
      "/ilan/vasita-otomobil-volkswagen-32.500km-2014-ilk-sahibinden-1.2-trendline-hatasiz-boyasiz-1057780791/detay\n",
      "/ilan/vasita-otomobil-nissan-2015-micra-degisensiz-cok-temiz-1.2-tam-otomatik-93-bin-km-1050857026/detay\n",
      "/ilan/vasita-otomobil-honda-lider-den-en-dolusu-boyasiz-tramersiz-exstrali-metrix-far-full-1057775851/detay\n",
      "/ilan/vasita-otomobil-volkswagen-vw-passat-75-bin-km-degisen-boya-yok-dis-highline-pluscam-tavan-plusled-1057775018/detay\n",
      "/ilan/vasita-otomobil-renault-2017-otomatik-megane-4-degisensiz-masrafsiz-1.5-dizel-icon-gorun-1057769571/detay\n",
      "/ilan/vasita-otomobil-bmw-2020-bmw-3.20i-m-sport-m3-koltuk-taba-harman-kardon-mineral-beya-1057162741/detay\n",
      "/ilan/vasita-otomobil-mazda-sahibinden-emsalsiz-mazda-1057771840/detay\n",
      "/ilan/vasita-otomobil-honda-hatasiz-boyasiz-otomatik-2010-175-bin-km-sunrooflu-elegance-1056748014/detay\n",
      "/ilan/vasita-otomobil-mercedes-benz-yildizlari-uzerinde-sunroff-otomatik-2.inci-sahibinden-merso-1057769516/detay\n",
      "/ilan/vasita-otomobil-bmw-sahibinden-z-4-3.0-roadstar-cok-ilgi-ceken-bi-arac-165.000-km-de-1050839170/detay\n",
      "/ilan/vasita-otomobil-volkswagen-2018-volkswagen-polo-1.0tsi-comfortline-benzin-otomatik-1034326182/detay\n",
      "/ilan/vasita-otomobil-mercedes-benz-mercedes-e-250cdi-4-matic-amg-paket-bayi-cikisli-ekstra-ozellik-1054781092/detay\n",
      "/ilan/vasita-otomobil-ford-2014-model-ford-focus-1.6-trend-x-orjinal-153.000-km-1055984738/detay\n",
      "/ilan/vasita-otomobil-opel-sahibinden-hatasiz-full-paket-bakimli-1057750127/detay\n",
      "/ilan/vasita-otomobil-seat-2012-model-seat-leon-1.6-tdi-105-beygir-cr-style-paket-1056532885/detay\n",
      "/ilan/vasita-otomobil-bmw-vakum-hayalet-3-kol-direksiyon-elektrikli-bagaj-161000km-takasli-1057760123/detay\n",
      "/ilan/vasita-otomobil-honda-vsa-ali-model-girtlaga-kadar-dolu-yok-yokk-1057759862/detay\n",
      "/ilan/vasita-otomobil-mercedes-benz-hatasiz-emsalsiz-c180-1050007323/detay\n",
      "/ilan/vasita-otomobil-audi-firsat-araci-fiyat-dustu-2017-degisensiz-yeni-kasa-a3-sedan-1050625037/detay\n",
      "/ilan/vasita-otomobil-renault-2020-model-megane-joy-hatasiz-boyasiz-kazasiz-orjinal-21.000-km-1057760334/detay\n",
      "/ilan/vasita-otomobil-renault-eksa-dan-2013-sadece-137bin-km-de-fluence-edc-touch-plus-110hp-1057758588/detay\n",
      "/ilan/vasita-otomobil-seat-2020-model-bol-ekstrali-seat-leon-orjinal-fr-gorunum-ackmlyi-oku-1057756824/detay\n",
      "/ilan/vasita-otomobil-honda-demirci-motors-dan-hatasiz-boyasiz-civic-1.6i-vtec-eco-elegance-1057756909/detay\n",
      "/ilan/vasita-otomobil-bmw-dusuk-km-bmw-f30-hatasiz-boyasiz-tramersiz-sunroof-plusderi-plusmercek-plus-1057758269/detay\n",
      "/ilan/vasita-otomobil-fiat-full-servis-bakimli-sadece-1-parca-degisen-sifir-muayene-gsr-li-1057755815/detay\n",
      "/ilan/vasita-otomobil-audi-ilk-sahibinden-hatasiz-sifir-gibi-1057756077/detay\n",
      "/ilan/vasita-otomobil-bmw-kopuz-bmw-5.20-executive-m-sport-girtlak-dolu-boyasiz-ciziksiz-1056271698/detay\n",
      "/ilan/vasita-otomobil-bmw-2006-kusursuz-extrali-335jant-deri-sunroof-h.sabitleme-tam-dolu-1057755154/detay\n",
      "/ilan/vasita-otomobil-citroen-degisensiz-boyasiz-tramersiz-c-elysee-1.5-dizel-manuel-1057753217/detay\n",
      "/ilan/vasita-otomobil-volkswagen-emsalsiz-temizlikte-dizel-otomatik-highline-ful-plusful-1056724155/detay\n",
      "/ilan/vasita-otomobil-fiat-tanis-motors-tan-1057751999/detay\n",
      "/ilan/vasita-otomobil-bmw-tertemiz-dopdolu-bmw-5.20d-1057751370/detay\n",
      "/ilan/vasita-otomobil-fiat-aninda-kredi-2020-25.000km-egea-tertemiz-bakimli-1057748180/detay\n",
      "/ilan/vasita-otomobil-opel-degisensiz-boyasiz-tramersiz-astra-sedan-1.3-dizel-manuel-1057746588/detay\n",
      "/ilan/vasita-otomobil-renault-dusuk-km-icon-clio-1057747940/detay\n",
      "/ilan/vasita-otomobil-opel-2017-boyasiz-elektrik-koltuk-dijital-klima-katlanir-ayna-136-hp-1057746001/detay\n",
      "/ilan/vasita-otomobil-bmw-ronesans-as-den-emsalsiz-2011-model-hatasiz-boyasiz-3.20d-lci-1057743679/detay\n",
      "/ilan/vasita-otomobil-honda-nokta-islemsiz-bordo-bereli-sifir-muayneli-1057743972/detay\n",
      "/ilan/vasita-otomobil-volkswagen-2014-beetle-1.4-tsi-otomatik-cam-tavan-160.000-km-1057740645/detay\n",
      "/ilan/vasita-otomobil-renault-2017-renault-seymbol-1.5-dci-90-hp-touch-paket-led-jant-sis-1057742339/detay\n",
      "/ilan/vasita-otomobil-mercedes-benz-mercedes-benz-c200d-blutech-dizel-otomatik-hatasiz-1055921051/detay\n",
      "/ilan/vasita-otomobil-fiat-boyasiz-129.800-km-2015-fiat-500l-m.jet-rockstar-otm-ilk-sahip-1057737918/detay\n",
      "/ilan/vasita-otomobil-mercedes-benz-pasaoglu-garage-dolular-dolusu-c63-amg-gorunumlu-1057719913/detay\n",
      "/ilan/vasita-otomobil-mercedes-benz-memurdan-hatasiz-boyasiz-e250-cdi-4-matic-1050790329/detay\n",
      "/ilan/vasita-otomobil-bmw-hu-cars-sedefli-beyaz-3.20ied-1052279094/detay\n"
     ]
    }
   ],
   "source": [
    "for link in results:\n",
    "    print(link['href'])"
   ]
  },
  {
   "cell_type": "code",
   "execution_count": 22,
   "id": "5513dd87-d42f-41bc-aa3f-d78f014d04d3",
   "metadata": {},
   "outputs": [],
   "source": [
    "list_of_cars"
   ]
  },
  {
   "cell_type": "code",
   "execution_count": null,
   "id": "8e36d1a4-0e5a-48d6-aacc-06c27d72e4a1",
   "metadata": {},
   "outputs": [],
   "source": []
  }
 ],
 "metadata": {
  "kernelspec": {
   "display_name": "Python 3 (ipykernel)",
   "language": "python",
   "name": "python3"
  },
  "language_info": {
   "codemirror_mode": {
    "name": "ipython",
    "version": 3
   },
   "file_extension": ".py",
   "mimetype": "text/x-python",
   "name": "python",
   "nbconvert_exporter": "python",
   "pygments_lexer": "ipython3",
   "version": "3.9.13"
  },
  "vscode": {
   "interpreter": {
    "hash": "be4931f38e98ab5eb45538d005eeba52eb66595aaf6329fc87c5b2bbc2077433"
   }
  }
 },
 "nbformat": 4,
 "nbformat_minor": 5
}
